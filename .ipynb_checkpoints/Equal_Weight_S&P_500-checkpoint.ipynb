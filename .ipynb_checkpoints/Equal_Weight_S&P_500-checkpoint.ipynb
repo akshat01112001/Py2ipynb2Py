{
 "cells": [
  {
   "cell_type": "code",
   "execution_count": 1,
   "id": "1",
   "metadata": {},
   "outputs": [],
   "source": [
    "import numpy as np\n",
    "import requests\n",
    "import pandas as pd\n",
    "import math\n",
    "from IPython.display import display, HTML\n",
    "import py2ipynb2py"
   ]
  },
  {
   "cell_type": "code",
   "execution_count": 2,
   "id": "2",
   "metadata": {},
   "outputs": [],
   "source": [
    "dp=pd.read_csv('sp_500_stocks.csv')"
   ]
  },
  {
   "cell_type": "code",
   "execution_count": 3,
   "id": "3",
   "metadata": {},
   "outputs": [],
   "source": [
    "from secrets import IEX_CLOUD_API_TOKEN\n",
    "stock='AAPL'"
   ]
  },
  {
   "cell_type": "markdown",
   "id": "c8538cc8",
   "metadata": {},
   "source": [
    "bye"
   ]
  },
  {
   "cell_type": "code",
   "execution_count": 4,
   "id": "4",
   "metadata": {},
   "outputs": [],
   "source": [
    "api_url=f'https://sandbox.iexapis.com/stable/stock/{stock}/quote/?token={IEX_CLOUD_API_TOKEN}'\n",
    "py2ipynb2py.convertor('/Users/harshit/Projects/Py2ipynb2Py/Equal_Weight_S&P_500.ipynb')"
   ]
  },
  {
   "cell_type": "markdown",
   "id": "e3fa8908",
   "metadata": {},
   "source": [
    "Hello"
   ]
  },
  {
   "cell_type": "code",
   "execution_count": 5,
   "id": "5",
   "metadata": {},
   "outputs": [],
   "source": [
    "#executing a http request"
   ]
  },
  {
   "cell_type": "code",
   "execution_count": 6,
   "id": "6",
   "metadata": {},
   "outputs": [],
   "source": [
    "data=requests.get(api_url).json()"
   ]
  },
  {
   "cell_type": "code",
   "execution_count": 7,
   "id": "7",
   "metadata": {},
   "outputs": [],
   "source": [
    "price=data['latestPrice']\n",
    "market_cap=data['marketCap']"
   ]
  },
  {
   "cell_type": "code",
   "execution_count": 8,
   "id": "8",
   "metadata": {},
   "outputs": [],
   "source": [
    "col=['Ticker','Stock Price','Market Capitalization','Number of Shares to Buy']\n",
    "final_dp=pd.DataFrame(columns=col)"
   ]
  },
  {
   "cell_type": "code",
   "execution_count": 9,
   "id": "9",
   "metadata": {},
   "outputs": [],
   "source": [
    "#adding a row to a pandas dataframe\n",
    "m={}\n",
    "m['Ticker']=[stock]\n",
    "m['Stock Price']=[price]\n",
    "m['Market Capitalization']=[market_cap]\n",
    "m['Number of Shares to Buy']=['N/A']"
   ]
  },
  {
   "cell_type": "code",
   "execution_count": 10,
   "id": "10",
   "metadata": {},
   "outputs": [
    {
     "data": {
      "text/html": [
       "<div>\n",
       "<style scoped>\n",
       "    .dataframe tbody tr th:only-of-type {\n",
       "        vertical-align: middle;\n",
       "    }\n",
       "\n",
       "    .dataframe tbody tr th {\n",
       "        vertical-align: top;\n",
       "    }\n",
       "\n",
       "    .dataframe thead th {\n",
       "        text-align: right;\n",
       "    }\n",
       "</style>\n",
       "<table border=\"1\" class=\"dataframe\">\n",
       "  <thead>\n",
       "    <tr style=\"text-align: right;\">\n",
       "      <th></th>\n",
       "      <th>index</th>\n",
       "      <th>Ticker</th>\n",
       "      <th>Stock Price</th>\n",
       "      <th>Market Capitalization</th>\n",
       "      <th>Number of Shares to Buy</th>\n",
       "    </tr>\n",
       "  </thead>\n",
       "  <tbody>\n",
       "    <tr>\n",
       "      <th>0</th>\n",
       "      <td>0</td>\n",
       "      <td>AAPL</td>\n",
       "      <td>145.13</td>\n",
       "      <td>2403493112128</td>\n",
       "      <td>N/A</td>\n",
       "    </tr>\n",
       "  </tbody>\n",
       "</table>\n",
       "</div>"
      ],
      "text/plain": [
       "   index Ticker Stock Price Market Capitalization Number of Shares to Buy\n",
       "0      0   AAPL      145.13         2403493112128                     N/A"
      ]
     },
     "execution_count": 10,
     "metadata": {},
     "output_type": "execute_result"
    }
   ],
   "source": [
    "dp_temp=pd.DataFrame(m)\n",
    "final_dp=pd.concat([final_dp,dp_temp],ignore_index=True)\n",
    "final_dp.reset_index()"
   ]
  },
  {
   "cell_type": "code",
   "execution_count": 11,
   "id": "11",
   "metadata": {},
   "outputs": [],
   "source": [
    "final_dp=pd.DataFrame(columns=col)"
   ]
  },
  {
   "cell_type": "code",
   "execution_count": 12,
   "id": "12",
   "metadata": {},
   "outputs": [],
   "source": [
    "count=0"
   ]
  },
  {
   "cell_type": "code",
   "execution_count": 13,
   "id": "13",
   "metadata": {},
   "outputs": [],
   "source": [
    "for stock in dp['Ticker'][:5]:\n",
    "    api_url=f'https://sandbox.iexapis.com/stable/stock/{stock}/quote/?token={IEX_CLOUD_API_TOKEN}'\n",
    "    data=requests.get(api_url).json()\n",
    "    m={}\n",
    "    price=data['latestPrice']\n",
    "    market_cap=data['marketCap']\n",
    "    m['Ticker']=[stock]\n",
    "    m['Stock Price']=[price]\n",
    "    m['Market Capitalization']=[market_cap]\n",
    "    m['Number of Shares to Buy']=['N/A']\n",
    "    dp_temp=pd.DataFrame(m)\n",
    "    final_dp=pd.concat([final_dp,dp_temp],ignore_index=True)\n",
    "    final_dp.reset_index()"
   ]
  },
  {
   "cell_type": "code",
   "execution_count": 14,
   "id": "14",
   "metadata": {},
   "outputs": [],
   "source": [
    "#display(final_dp)\n",
    "#using batch api"
   ]
  },
  {
   "cell_type": "code",
   "execution_count": 15,
   "id": "15",
   "metadata": {},
   "outputs": [],
   "source": [
    "def split(lst,n):\n",
    "    for i in range(0,len(lst),n):\n",
    "        yield lst[i:i+n]"
   ]
  },
  {
   "cell_type": "code",
   "execution_count": 16,
   "id": "16",
   "metadata": {},
   "outputs": [],
   "source": [
    "#api allows 100 tickers at a time max"
   ]
  },
  {
   "cell_type": "code",
   "execution_count": 17,
   "id": "17",
   "metadata": {},
   "outputs": [],
   "source": [
    "stock_list=list(split(dp['Ticker'],100))\n",
    "stock_strings=[]"
   ]
  },
  {
   "cell_type": "code",
   "execution_count": 18,
   "id": "18",
   "metadata": {},
   "outputs": [],
   "source": [
    "for i in range(0,len(stock_list)):\n",
    "    stock_strings.append(','.join(stock_list[i]))"
   ]
  },
  {
   "cell_type": "code",
   "execution_count": 19,
   "id": "19",
   "metadata": {},
   "outputs": [],
   "source": [
    "final_dp=pd.DataFrame(columns=col)\n",
    "#print(\"Hello\")"
   ]
  },
  {
   "cell_type": "code",
   "execution_count": 20,
   "id": "20",
   "metadata": {},
   "outputs": [
    {
     "name": "stdout",
     "output_type": "stream",
     "text": [
      "   Ticker Stock Price Market Capitalization Number of Shares to Buy\n",
      "0       A      125.06           36277017251                     N/A\n",
      "1     AAL        14.3            9084418405                     N/A\n",
      "2     AAP       190.5           11191370882                     N/A\n",
      "3    AAPL      144.24         2322782298625                     N/A\n",
      "4    ABBV         155          279546317921                     N/A\n",
      "..    ...         ...                   ...                     ...\n",
      "95   CINF       119.5           19383905772                     N/A\n",
      "96     CL       81.96           69264893784                     N/A\n",
      "97    CLX      145.11           17629529697                     N/A\n",
      "98    CMA       78.42           10367283838                     N/A\n",
      "99  CMCSA        40.4          182648224607                     N/A\n",
      "\n",
      "[100 rows x 4 columns]\n"
     ]
    }
   ],
   "source": [
    "for stock_string in stock_strings[:1]:\n",
    "    batch_api_url=f'https://sandbox.iexapis.com/stable/stock/market/batch?symbols={stock_string}&types=quote&token={IEX_CLOUD_API_TOKEN}'\n",
    "    data=requests.get(batch_api_url).json()\n",
    "    for stock in stock_string.split(','):\n",
    "        m={}\n",
    "        price=data[stock]['quote']['latestPrice']\n",
    "        market_cap=data[stock]['quote']['marketCap']\n",
    "        m['Ticker']=[stock]\n",
    "        m['Stock Price']=[price]\n",
    "        m['Market Capitalization']=[market_cap]\n",
    "        m['Number of Shares to Buy']=['N/A']\n",
    "        dp_temp=pd.DataFrame(m)\n",
    "        final_dp=pd.concat([final_dp,dp_temp],ignore_index=True)\n",
    "        final_dp.reset_index()\n",
    "print(final_dp)"
   ]
  }
 ],
 "metadata": {
  "kernelspec": {
   "display_name": "Python 3 (ipykernel)",
   "language": "python",
   "name": "python3"
  },
  "language_info": {
   "codemirror_mode": {
    "name": "ipython",
    "version": 3
   },
   "file_extension": ".py",
   "mimetype": "text/x-python",
   "name": "python",
   "nbconvert_exporter": "python",
   "pygments_lexer": "ipython3",
   "version": "3.8.13"
  }
 },
 "nbformat": 4,
 "nbformat_minor": 5
}
